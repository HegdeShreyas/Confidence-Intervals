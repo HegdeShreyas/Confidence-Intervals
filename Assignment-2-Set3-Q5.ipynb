{
 "cells": [
  {
   "cell_type": "raw",
   "metadata": {},
   "source": [
    "Q5.\tIn January 2005, a company that monitors Internet traffic (WebSideStory) reported that its sampling revealed that the Mozilla Firefox browser launched in 2004 had grabbed a 4.6% share of the market.\n",
    "\n",
    "I.\tIf the sample were based on 2,000 users, could Microsoft conclude that Mozilla has a less than 5% share of the market?\n",
    "\n",
    "\n",
    "II.\tWebSideStory claims that its sample includes all the daily Internet users. If that’s the case, then can Microsoft conclude that Mozilla has a less than 5% share of the market?\n"
   ]
  },
  {
   "cell_type": "code",
   "execution_count": 14,
   "metadata": {},
   "outputs": [],
   "source": [
    "import numpy as np\n",
    "from scipy import stats\n",
    "from scipy.stats import norm"
   ]
  },
  {
   "cell_type": "raw",
   "metadata": {},
   "source": [
    "I. If the sample were based on 2,000 users, could Microsoft conclude that Mozilla has a less than 5% share of the market?\n",
    "\n",
    "Now suppose the population proportion share of  market by the Mozilla  is p = 0.5\n",
    "then sample proportion share of market by the Mozilla is p̂ = 0.46"
   ]
  },
  {
   "cell_type": "raw",
   "metadata": {},
   "source": [
    "Assume Null Hypothesis as Ho: p >= 5% market share\n",
    "Thus Alternate Hypothesis as Ha: p < 5% market share"
   ]
  },
  {
   "cell_type": "code",
   "execution_count": 12,
   "metadata": {},
   "outputs": [],
   "source": [
    "# Apply One-Sample One-Tail z-test"
   ]
  },
  {
   "cell_type": "raw",
   "metadata": {},
   "source": [
    "calculate z-score or value\n",
    "z_scores = (p̂-p)/√(p(1-p)/n) ...N(0,1)"
   ]
  },
  {
   "cell_type": "code",
   "execution_count": 21,
   "metadata": {},
   "outputs": [
    {
     "data": {
      "text/plain": [
       "-0.820782681668124"
      ]
     },
     "execution_count": 21,
     "metadata": {},
     "output_type": "execute_result"
    }
   ],
   "source": [
    "z_scores=(0.046-0.05)/(np.sqrt((0.05*(1-0.05))/2000))\n",
    "z_scores"
   ]
  },
  {
   "cell_type": "code",
   "execution_count": 20,
   "metadata": {},
   "outputs": [],
   "source": [
    "# Find Probability assuming null hyposthesis, so as to compare with Type-1 error α = 0.05"
   ]
  },
  {
   "cell_type": "code",
   "execution_count": 29,
   "metadata": {},
   "outputs": [
    {
     "data": {
      "text/plain": [
       "0.20588503245107104"
      ]
     },
     "execution_count": 29,
     "metadata": {},
     "output_type": "execute_result"
    }
   ],
   "source": [
    "p_value=1-stats.norm.cdf(abs(z_scores))\n",
    "p_value"
   ]
  },
  {
   "cell_type": "raw",
   "metadata": {},
   "source": [
    "As (p_value = 0.2058) > (α = 0.05) ; Accept Null Hypothesis\n",
    "i.e. Mozilla market share > 5%\n",
    "Thus, Microsoft can not conclude that Mozilla has a less than 5% share of the market"
   ]
  },
  {
   "cell_type": "raw",
   "metadata": {},
   "source": [
    "II.\tWebSideStory claims that its sample includes all the daily Internet users. If that’s the case, then can Microsoft conclude that Mozilla has a less than 5% share of the market?"
   ]
  },
  {
   "cell_type": "raw",
   "metadata": {},
   "source": [
    "We are given that WebSideStory claims that its sample includes all the daily Internet users. \n",
    "\n",
    "This means that the 4.6% is the population percentage. Comparing it with Microsoft's claim that Mozilla has a less than 5% share of the whole market is True.\n",
    "\n",
    "Hence, we can conclude that Mozilla has a less than 5% share of the market."
   ]
  }
 ],
 "metadata": {
  "kernelspec": {
   "display_name": "Python 3 (ipykernel)",
   "language": "python",
   "name": "python3"
  },
  "language_info": {
   "codemirror_mode": {
    "name": "ipython",
    "version": 3
   },
   "file_extension": ".py",
   "mimetype": "text/x-python",
   "name": "python",
   "nbconvert_exporter": "python",
   "pygments_lexer": "ipython3",
   "version": "3.11.3"
  }
 },
 "nbformat": 4,
 "nbformat_minor": 4
}
